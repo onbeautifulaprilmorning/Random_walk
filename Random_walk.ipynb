{
 "cells": [
  {
   "cell_type": "code",
   "execution_count": 7,
   "metadata": {},
   "outputs": [
    {
     "data": {
      "image/png": "[encoded data removed]",
      "text/plain": [
       "<Figure size 432x288 with 1 Axes>"
      ]
     },
     "metadata": {},
     "output_type": "display_data"
    }
   ],
   "source": [
    "import numpy as np\n",
    "from matplotlib import pyplot as plt\n",
    "\n",
    "n = 100\n",
    "T = 10\n",
    "\n",
    "x = np.zeros(n)\n",
    "y = np.zeros(n)\n",
    "\n",
    "for i in range(T):\n",
    "    for i in range(1,n):\n",
    "        step = np.random.choice([\"up\", \"down\", \"left\", \"right\"])\n",
    "        if step == \"right\":\n",
    "            x[i] = x[i - 1] + 0.25\n",
    "            y[i] = y[i - 1]\n",
    "        elif step == \"left\": \n",
    "            x[i] = x[i - 1] - 0.25\n",
    "            y[i] = y[i - 1] \n",
    "        elif step == \"up\": \n",
    "            x[i] = x[i - 1] \n",
    "            y[i] = y[i - 1] + 0.25\n",
    "        else: \n",
    "            x[i] = x[i - 1] \n",
    "            y[i] = y[i - 1] - 0.25\n",
    "    plt.plot(x,y)"
   ]
  },
  {
   "cell_type": "code",
   "execution_count": null,
   "metadata": {},
   "outputs": [],
   "source": []
  }
 ],
 "metadata": {
  "kernelspec": {
   "display_name": "Python 3",
   "language": "python",
   "name": "python3"
  },
  "language_info": {
   "codemirror_mode": {
    "name": "ipython",
    "version": 3
   },
   "file_extension": ".py",
   "mimetype": "text/x-python",
   "name": "python",
   "nbconvert_exporter": "python",
   "pygments_lexer": "ipython3",
   "version": "3.6.5"
  }
 },
 "nbformat": 4,
 "nbformat_minor": 2
}
